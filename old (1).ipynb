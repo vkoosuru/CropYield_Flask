{
 "cells": [
  {
   "cell_type": "code",
   "execution_count": 2,
   "id": "57454183-3b2b-490c-879b-b00737c22930",
   "metadata": {
    "tags": []
   },
   "outputs": [
    {
     "name": "stdout",
     "output_type": "stream",
     "text": [
      "Using bucket myyieldbucket\n"
     ]
    }
   ],
   "source": [
    "import numpy as np\n",
    "from sagemaker import get_execution_role\n",
    "import sagemaker\n",
    "from sklearn.model_selection import train_test_split\n",
    "from sklearn.preprocessing import LabelEncoder, StandardScaler, OneHotEncoder\n",
    "import datetime\n",
    "import time\n",
    "import tarfile\n",
    "import boto3\n",
    "import pandas as pd\n",
    "\n",
    "sm_boto3 = boto3.client(\"sagemaker\")\n",
    "sess = sagemaker.Session()\n",
    "region = sess.boto_session.region_name\n",
    "bucket = 'myyieldbucket' # Mention the created S3 bucket name here\n",
    "print(\"Using bucket \" + bucket)\n"
   ]
  },
  {
   "cell_type": "code",
   "execution_count": 3,
   "id": "7d52d277-7556-4c57-9635-a40a7135f854",
   "metadata": {
    "tags": []
   },
   "outputs": [],
   "source": [
    "df = pd.read_excel(\"last.xlsx\")"
   ]
  },
  {
   "cell_type": "code",
   "execution_count": 4,
   "id": "b27e73d1-043c-47e0-beae-7faae6ede262",
   "metadata": {
    "tags": []
   },
   "outputs": [
    {
     "data": {
      "text/html": [
       "<div>\n",
       "<style scoped>\n",
       "    .dataframe tbody tr th:only-of-type {\n",
       "        vertical-align: middle;\n",
       "    }\n",
       "\n",
       "    .dataframe tbody tr th {\n",
       "        vertical-align: top;\n",
       "    }\n",
       "\n",
       "    .dataframe thead th {\n",
       "        text-align: right;\n",
       "    }\n",
       "</style>\n",
       "<table border=\"1\" class=\"dataframe\">\n",
       "  <thead>\n",
       "    <tr style=\"text-align: right;\">\n",
       "      <th></th>\n",
       "      <th>Rainfall(mm)</th>\n",
       "      <th>Minimum Temparature(C)</th>\n",
       "      <th>Maximum Temperature (C)</th>\n",
       "      <th>Ph</th>\n",
       "      <th>N(Kg/Hectar)</th>\n",
       "      <th>P(Kg/Hectar)</th>\n",
       "      <th>K(Kg/Hectar)</th>\n",
       "      <th>Zn(ppm)</th>\n",
       "      <th>Fe(ppm)</th>\n",
       "      <th>Cu(ppm)</th>\n",
       "      <th>...</th>\n",
       "      <th>District_Warangal</th>\n",
       "      <th>District_Warangal urban</th>\n",
       "      <th>District_Yadadri</th>\n",
       "      <th>Season_Kharif</th>\n",
       "      <th>Season_rabi</th>\n",
       "      <th>Crop_Groundnut</th>\n",
       "      <th>Crop_Maize</th>\n",
       "      <th>Crop_Moong(Green Gram)</th>\n",
       "      <th>Crop_Rice</th>\n",
       "      <th>Crop_cotton(lint)</th>\n",
       "    </tr>\n",
       "  </thead>\n",
       "  <tbody>\n",
       "    <tr>\n",
       "      <th>0</th>\n",
       "      <td>156.04</td>\n",
       "      <td>29.10</td>\n",
       "      <td>40.50</td>\n",
       "      <td>7.55</td>\n",
       "      <td>180.0</td>\n",
       "      <td>17.6</td>\n",
       "      <td>284.0</td>\n",
       "      <td>1.35</td>\n",
       "      <td>14.0</td>\n",
       "      <td>0.58</td>\n",
       "      <td>...</td>\n",
       "      <td>0</td>\n",
       "      <td>0</td>\n",
       "      <td>0</td>\n",
       "      <td>1</td>\n",
       "      <td>0</td>\n",
       "      <td>0</td>\n",
       "      <td>0</td>\n",
       "      <td>0</td>\n",
       "      <td>0</td>\n",
       "      <td>1</td>\n",
       "    </tr>\n",
       "    <tr>\n",
       "      <th>1</th>\n",
       "      <td>165.74</td>\n",
       "      <td>26.10</td>\n",
       "      <td>37.60</td>\n",
       "      <td>7.55</td>\n",
       "      <td>180.0</td>\n",
       "      <td>17.6</td>\n",
       "      <td>284.0</td>\n",
       "      <td>1.35</td>\n",
       "      <td>14.0</td>\n",
       "      <td>0.58</td>\n",
       "      <td>...</td>\n",
       "      <td>0</td>\n",
       "      <td>0</td>\n",
       "      <td>0</td>\n",
       "      <td>1</td>\n",
       "      <td>0</td>\n",
       "      <td>0</td>\n",
       "      <td>0</td>\n",
       "      <td>0</td>\n",
       "      <td>0</td>\n",
       "      <td>1</td>\n",
       "    </tr>\n",
       "    <tr>\n",
       "      <th>2</th>\n",
       "      <td>240.52</td>\n",
       "      <td>27.30</td>\n",
       "      <td>38.30</td>\n",
       "      <td>7.55</td>\n",
       "      <td>180.0</td>\n",
       "      <td>17.6</td>\n",
       "      <td>284.0</td>\n",
       "      <td>1.35</td>\n",
       "      <td>14.0</td>\n",
       "      <td>0.58</td>\n",
       "      <td>...</td>\n",
       "      <td>0</td>\n",
       "      <td>0</td>\n",
       "      <td>0</td>\n",
       "      <td>1</td>\n",
       "      <td>0</td>\n",
       "      <td>0</td>\n",
       "      <td>0</td>\n",
       "      <td>0</td>\n",
       "      <td>0</td>\n",
       "      <td>1</td>\n",
       "    </tr>\n",
       "    <tr>\n",
       "      <th>3</th>\n",
       "      <td>180.18</td>\n",
       "      <td>27.60</td>\n",
       "      <td>37.40</td>\n",
       "      <td>7.55</td>\n",
       "      <td>180.0</td>\n",
       "      <td>17.6</td>\n",
       "      <td>284.0</td>\n",
       "      <td>1.35</td>\n",
       "      <td>14.0</td>\n",
       "      <td>0.58</td>\n",
       "      <td>...</td>\n",
       "      <td>0</td>\n",
       "      <td>0</td>\n",
       "      <td>0</td>\n",
       "      <td>1</td>\n",
       "      <td>0</td>\n",
       "      <td>0</td>\n",
       "      <td>0</td>\n",
       "      <td>0</td>\n",
       "      <td>0</td>\n",
       "      <td>1</td>\n",
       "    </tr>\n",
       "    <tr>\n",
       "      <th>4</th>\n",
       "      <td>256.06</td>\n",
       "      <td>25.38</td>\n",
       "      <td>39.94</td>\n",
       "      <td>7.55</td>\n",
       "      <td>180.0</td>\n",
       "      <td>17.6</td>\n",
       "      <td>284.0</td>\n",
       "      <td>1.35</td>\n",
       "      <td>14.0</td>\n",
       "      <td>0.58</td>\n",
       "      <td>...</td>\n",
       "      <td>0</td>\n",
       "      <td>0</td>\n",
       "      <td>0</td>\n",
       "      <td>1</td>\n",
       "      <td>0</td>\n",
       "      <td>0</td>\n",
       "      <td>0</td>\n",
       "      <td>0</td>\n",
       "      <td>0</td>\n",
       "      <td>1</td>\n",
       "    </tr>\n",
       "  </tbody>\n",
       "</table>\n",
       "<p>5 rows × 52 columns</p>\n",
       "</div>"
      ],
      "text/plain": [
       "   Rainfall(mm)  Minimum Temparature(C)  Maximum Temperature (C)    Ph  \\\n",
       "0        156.04                   29.10                    40.50  7.55   \n",
       "1        165.74                   26.10                    37.60  7.55   \n",
       "2        240.52                   27.30                    38.30  7.55   \n",
       "3        180.18                   27.60                    37.40  7.55   \n",
       "4        256.06                   25.38                    39.94  7.55   \n",
       "\n",
       "   N(Kg/Hectar)  P(Kg/Hectar)  K(Kg/Hectar)  Zn(ppm)  Fe(ppm)  Cu(ppm)  ...  \\\n",
       "0         180.0          17.6         284.0     1.35     14.0     0.58  ...   \n",
       "1         180.0          17.6         284.0     1.35     14.0     0.58  ...   \n",
       "2         180.0          17.6         284.0     1.35     14.0     0.58  ...   \n",
       "3         180.0          17.6         284.0     1.35     14.0     0.58  ...   \n",
       "4         180.0          17.6         284.0     1.35     14.0     0.58  ...   \n",
       "\n",
       "   District_Warangal  District_Warangal urban  District_Yadadri  \\\n",
       "0                  0                        0                 0   \n",
       "1                  0                        0                 0   \n",
       "2                  0                        0                 0   \n",
       "3                  0                        0                 0   \n",
       "4                  0                        0                 0   \n",
       "\n",
       "   Season_Kharif  Season_rabi  Crop_Groundnut  Crop_Maize  \\\n",
       "0              1            0               0           0   \n",
       "1              1            0               0           0   \n",
       "2              1            0               0           0   \n",
       "3              1            0               0           0   \n",
       "4              1            0               0           0   \n",
       "\n",
       "   Crop_Moong(Green Gram)  Crop_Rice  Crop_cotton(lint)  \n",
       "0                       0          0                  1  \n",
       "1                       0          0                  1  \n",
       "2                       0          0                  1  \n",
       "3                       0          0                  1  \n",
       "4                       0          0                  1  \n",
       "\n",
       "[5 rows x 52 columns]"
      ]
     },
     "execution_count": 4,
     "metadata": {},
     "output_type": "execute_result"
    }
   ],
   "source": [
    "df.head()"
   ]
  },
  {
   "cell_type": "code",
   "execution_count": 5,
   "id": "cf0b5d61-0831-48b8-849f-b803cb7f21ed",
   "metadata": {
    "tags": []
   },
   "outputs": [
    {
     "data": {
      "text/plain": [
       "['Rainfall(mm)',\n",
       " 'Minimum Temparature(C)',\n",
       " 'Maximum Temperature (C)',\n",
       " 'Ph',\n",
       " 'N(Kg/Hectar)',\n",
       " 'P(Kg/Hectar)',\n",
       " 'K(Kg/Hectar)',\n",
       " 'Zn(ppm)',\n",
       " 'Fe(ppm)',\n",
       " 'Cu(ppm)',\n",
       " 'Mn(ppm)',\n",
       " 'Irrigation(MBGL)',\n",
       " 'Yield (Bales/Hectare)',\n",
       " 'District_Adilabad',\n",
       " 'District_Bhadradri',\n",
       " 'District_Jagitial',\n",
       " 'District_Jangoan',\n",
       " 'District_Jayashankar',\n",
       " 'District_Jogulamba',\n",
       " 'District_Kamareddy',\n",
       " 'District_Karimnagar',\n",
       " 'District_Khammam',\n",
       " 'District_Komaram bheem asifabad',\n",
       " 'District_Mahabubabad',\n",
       " 'District_Mahbubnagar',\n",
       " 'District_Mancherial',\n",
       " 'District_Medak',\n",
       " 'District_Medchal',\n",
       " 'District_Mulugu',\n",
       " 'District_Nagarkurnool',\n",
       " 'District_Nalgonda',\n",
       " 'District_Narayanapet',\n",
       " 'District_Nirmal',\n",
       " 'District_Nizamabad',\n",
       " 'District_Peddapalli',\n",
       " 'District_Rajanna',\n",
       " 'District_Rangareddy',\n",
       " 'District_Sangareddy',\n",
       " 'District_Siddipet',\n",
       " 'District_Suryapet',\n",
       " 'District_Vikarabad',\n",
       " 'District_Wanaparthy',\n",
       " 'District_Warangal',\n",
       " 'District_Warangal urban',\n",
       " 'District_Yadadri',\n",
       " 'Season_Kharif',\n",
       " 'Season_rabi',\n",
       " 'Crop_Groundnut',\n",
       " 'Crop_Maize',\n",
       " 'Crop_Moong(Green Gram)',\n",
       " 'Crop_Rice',\n",
       " 'Crop_cotton(lint)']"
      ]
     },
     "execution_count": 5,
     "metadata": {},
     "output_type": "execute_result"
    }
   ],
   "source": [
    "features = list(df.columns)\n",
    "features"
   ]
  },
  {
   "cell_type": "code",
   "execution_count": 6,
   "id": "192cd3c1-b022-48af-8463-111dbb414d26",
   "metadata": {
    "tags": []
   },
   "outputs": [
    {
     "data": {
      "text/plain": [
       "'Yield (Bales/Hectare)'"
      ]
     },
     "execution_count": 6,
     "metadata": {},
     "output_type": "execute_result"
    }
   ],
   "source": [
    "features[12]"
   ]
  },
  {
   "cell_type": "code",
   "execution_count": 7,
   "id": "600bbbb7-a95b-43b0-8639-d7c58f47dca6",
   "metadata": {
    "tags": []
   },
   "outputs": [
    {
     "data": {
      "text/plain": [
       "'Yield (Bales/Hectare)'"
      ]
     },
     "execution_count": 7,
     "metadata": {},
     "output_type": "execute_result"
    }
   ],
   "source": [
    "label = features.pop(12)\n",
    "label"
   ]
  },
  {
   "cell_type": "code",
   "execution_count": 8,
   "id": "51845f0d-a562-4161-8b70-5fc055f76a43",
   "metadata": {
    "tags": []
   },
   "outputs": [],
   "source": [
    "x = df[features]\n",
    "y = df[label]"
   ]
  },
  {
   "cell_type": "code",
   "execution_count": 9,
   "id": "8e6c55f8-2bce-4e66-93f3-b7613fe68674",
   "metadata": {
    "tags": []
   },
   "outputs": [
    {
     "data": {
      "text/html": [
       "<div>\n",
       "<style scoped>\n",
       "    .dataframe tbody tr th:only-of-type {\n",
       "        vertical-align: middle;\n",
       "    }\n",
       "\n",
       "    .dataframe tbody tr th {\n",
       "        vertical-align: top;\n",
       "    }\n",
       "\n",
       "    .dataframe thead th {\n",
       "        text-align: right;\n",
       "    }\n",
       "</style>\n",
       "<table border=\"1\" class=\"dataframe\">\n",
       "  <thead>\n",
       "    <tr style=\"text-align: right;\">\n",
       "      <th></th>\n",
       "      <th>Rainfall(mm)</th>\n",
       "      <th>Minimum Temparature(C)</th>\n",
       "      <th>Maximum Temperature (C)</th>\n",
       "      <th>Ph</th>\n",
       "      <th>N(Kg/Hectar)</th>\n",
       "      <th>P(Kg/Hectar)</th>\n",
       "      <th>K(Kg/Hectar)</th>\n",
       "      <th>Zn(ppm)</th>\n",
       "      <th>Fe(ppm)</th>\n",
       "      <th>Cu(ppm)</th>\n",
       "      <th>...</th>\n",
       "      <th>District_Warangal</th>\n",
       "      <th>District_Warangal urban</th>\n",
       "      <th>District_Yadadri</th>\n",
       "      <th>Season_Kharif</th>\n",
       "      <th>Season_rabi</th>\n",
       "      <th>Crop_Groundnut</th>\n",
       "      <th>Crop_Maize</th>\n",
       "      <th>Crop_Moong(Green Gram)</th>\n",
       "      <th>Crop_Rice</th>\n",
       "      <th>Crop_cotton(lint)</th>\n",
       "    </tr>\n",
       "  </thead>\n",
       "  <tbody>\n",
       "    <tr>\n",
       "      <th>0</th>\n",
       "      <td>156.04</td>\n",
       "      <td>29.10</td>\n",
       "      <td>40.50</td>\n",
       "      <td>7.55</td>\n",
       "      <td>180.0</td>\n",
       "      <td>17.6</td>\n",
       "      <td>284.0</td>\n",
       "      <td>1.35</td>\n",
       "      <td>14.0</td>\n",
       "      <td>0.58</td>\n",
       "      <td>...</td>\n",
       "      <td>0</td>\n",
       "      <td>0</td>\n",
       "      <td>0</td>\n",
       "      <td>1</td>\n",
       "      <td>0</td>\n",
       "      <td>0</td>\n",
       "      <td>0</td>\n",
       "      <td>0</td>\n",
       "      <td>0</td>\n",
       "      <td>1</td>\n",
       "    </tr>\n",
       "    <tr>\n",
       "      <th>1</th>\n",
       "      <td>165.74</td>\n",
       "      <td>26.10</td>\n",
       "      <td>37.60</td>\n",
       "      <td>7.55</td>\n",
       "      <td>180.0</td>\n",
       "      <td>17.6</td>\n",
       "      <td>284.0</td>\n",
       "      <td>1.35</td>\n",
       "      <td>14.0</td>\n",
       "      <td>0.58</td>\n",
       "      <td>...</td>\n",
       "      <td>0</td>\n",
       "      <td>0</td>\n",
       "      <td>0</td>\n",
       "      <td>1</td>\n",
       "      <td>0</td>\n",
       "      <td>0</td>\n",
       "      <td>0</td>\n",
       "      <td>0</td>\n",
       "      <td>0</td>\n",
       "      <td>1</td>\n",
       "    </tr>\n",
       "    <tr>\n",
       "      <th>2</th>\n",
       "      <td>240.52</td>\n",
       "      <td>27.30</td>\n",
       "      <td>38.30</td>\n",
       "      <td>7.55</td>\n",
       "      <td>180.0</td>\n",
       "      <td>17.6</td>\n",
       "      <td>284.0</td>\n",
       "      <td>1.35</td>\n",
       "      <td>14.0</td>\n",
       "      <td>0.58</td>\n",
       "      <td>...</td>\n",
       "      <td>0</td>\n",
       "      <td>0</td>\n",
       "      <td>0</td>\n",
       "      <td>1</td>\n",
       "      <td>0</td>\n",
       "      <td>0</td>\n",
       "      <td>0</td>\n",
       "      <td>0</td>\n",
       "      <td>0</td>\n",
       "      <td>1</td>\n",
       "    </tr>\n",
       "    <tr>\n",
       "      <th>3</th>\n",
       "      <td>180.18</td>\n",
       "      <td>27.60</td>\n",
       "      <td>37.40</td>\n",
       "      <td>7.55</td>\n",
       "      <td>180.0</td>\n",
       "      <td>17.6</td>\n",
       "      <td>284.0</td>\n",
       "      <td>1.35</td>\n",
       "      <td>14.0</td>\n",
       "      <td>0.58</td>\n",
       "      <td>...</td>\n",
       "      <td>0</td>\n",
       "      <td>0</td>\n",
       "      <td>0</td>\n",
       "      <td>1</td>\n",
       "      <td>0</td>\n",
       "      <td>0</td>\n",
       "      <td>0</td>\n",
       "      <td>0</td>\n",
       "      <td>0</td>\n",
       "      <td>1</td>\n",
       "    </tr>\n",
       "    <tr>\n",
       "      <th>4</th>\n",
       "      <td>256.06</td>\n",
       "      <td>25.38</td>\n",
       "      <td>39.94</td>\n",
       "      <td>7.55</td>\n",
       "      <td>180.0</td>\n",
       "      <td>17.6</td>\n",
       "      <td>284.0</td>\n",
       "      <td>1.35</td>\n",
       "      <td>14.0</td>\n",
       "      <td>0.58</td>\n",
       "      <td>...</td>\n",
       "      <td>0</td>\n",
       "      <td>0</td>\n",
       "      <td>0</td>\n",
       "      <td>1</td>\n",
       "      <td>0</td>\n",
       "      <td>0</td>\n",
       "      <td>0</td>\n",
       "      <td>0</td>\n",
       "      <td>0</td>\n",
       "      <td>1</td>\n",
       "    </tr>\n",
       "  </tbody>\n",
       "</table>\n",
       "<p>5 rows × 51 columns</p>\n",
       "</div>"
      ],
      "text/plain": [
       "   Rainfall(mm)  Minimum Temparature(C)  Maximum Temperature (C)    Ph  \\\n",
       "0        156.04                   29.10                    40.50  7.55   \n",
       "1        165.74                   26.10                    37.60  7.55   \n",
       "2        240.52                   27.30                    38.30  7.55   \n",
       "3        180.18                   27.60                    37.40  7.55   \n",
       "4        256.06                   25.38                    39.94  7.55   \n",
       "\n",
       "   N(Kg/Hectar)  P(Kg/Hectar)  K(Kg/Hectar)  Zn(ppm)  Fe(ppm)  Cu(ppm)  ...  \\\n",
       "0         180.0          17.6         284.0     1.35     14.0     0.58  ...   \n",
       "1         180.0          17.6         284.0     1.35     14.0     0.58  ...   \n",
       "2         180.0          17.6         284.0     1.35     14.0     0.58  ...   \n",
       "3         180.0          17.6         284.0     1.35     14.0     0.58  ...   \n",
       "4         180.0          17.6         284.0     1.35     14.0     0.58  ...   \n",
       "\n",
       "   District_Warangal  District_Warangal urban  District_Yadadri  \\\n",
       "0                  0                        0                 0   \n",
       "1                  0                        0                 0   \n",
       "2                  0                        0                 0   \n",
       "3                  0                        0                 0   \n",
       "4                  0                        0                 0   \n",
       "\n",
       "   Season_Kharif  Season_rabi  Crop_Groundnut  Crop_Maize  \\\n",
       "0              1            0               0           0   \n",
       "1              1            0               0           0   \n",
       "2              1            0               0           0   \n",
       "3              1            0               0           0   \n",
       "4              1            0               0           0   \n",
       "\n",
       "   Crop_Moong(Green Gram)  Crop_Rice  Crop_cotton(lint)  \n",
       "0                       0          0                  1  \n",
       "1                       0          0                  1  \n",
       "2                       0          0                  1  \n",
       "3                       0          0                  1  \n",
       "4                       0          0                  1  \n",
       "\n",
       "[5 rows x 51 columns]"
      ]
     },
     "execution_count": 9,
     "metadata": {},
     "output_type": "execute_result"
    }
   ],
   "source": [
    "x.head()"
   ]
  },
  {
   "cell_type": "code",
   "execution_count": 10,
   "id": "830a28fd-d10a-46dc-8665-305db2631b52",
   "metadata": {
    "tags": []
   },
   "outputs": [
    {
     "data": {
      "text/plain": [
       "0    1.88\n",
       "1    2.49\n",
       "2    2.72\n",
       "3    3.15\n",
       "4    2.55\n",
       "Name: Yield (Bales/Hectare), dtype: float64"
      ]
     },
     "execution_count": 10,
     "metadata": {},
     "output_type": "execute_result"
    }
   ],
   "source": [
    "y.head()"
   ]
  },
  {
   "cell_type": "code",
   "execution_count": 11,
   "id": "cca7e15e-c2b4-483e-b8ba-dc65a8b3ec22",
   "metadata": {
    "tags": []
   },
   "outputs": [
    {
     "data": {
      "text/plain": [
       "(1136, 51)"
      ]
     },
     "execution_count": 11,
     "metadata": {},
     "output_type": "execute_result"
    }
   ],
   "source": [
    "x.shape"
   ]
  },
  {
   "cell_type": "code",
   "execution_count": 12,
   "id": "0db295a5-6e99-490b-bad3-5353e51bdfe5",
   "metadata": {
    "tags": []
   },
   "outputs": [
    {
     "data": {
      "text/plain": [
       "0.95    29\n",
       "0.64    20\n",
       "0.90    20\n",
       "2.07    15\n",
       "0.79    14\n",
       "        ..\n",
       "1.66     1\n",
       "1.49     1\n",
       "2.69     1\n",
       "1.46     1\n",
       "3.84     1\n",
       "Name: Yield (Bales/Hectare), Length: 451, dtype: int64"
      ]
     },
     "execution_count": 12,
     "metadata": {},
     "output_type": "execute_result"
    }
   ],
   "source": [
    "y.value_counts()"
   ]
  },
  {
   "cell_type": "code",
   "execution_count": 13,
   "id": "ec0d6ae1-4989-4f2a-a2b3-298a6ccce3f2",
   "metadata": {
    "tags": []
   },
   "outputs": [],
   "source": [
    "X_train, X_test, y_train, y_test = train_test_split(x,y, test_size=0.2, random_state=19)"
   ]
  },
  {
   "cell_type": "code",
   "execution_count": 14,
   "id": "a449262a-b2ce-4962-9edf-e5f55931334a",
   "metadata": {
    "tags": []
   },
   "outputs": [
    {
     "name": "stdout",
     "output_type": "stream",
     "text": [
      "(908, 51)\n",
      "(228, 51)\n",
      "(908,)\n",
      "(228,)\n"
     ]
    }
   ],
   "source": [
    "print(X_train.shape)\n",
    "print(X_test.shape)\n",
    "print(y_train.shape)\n",
    "print(y_test.shape)"
   ]
  },
  {
   "cell_type": "code",
   "execution_count": 15,
   "id": "1c44a6f8-d96e-4321-90bb-3c0439be1bde",
   "metadata": {
    "tags": []
   },
   "outputs": [],
   "source": [
    "trainX = pd.DataFrame(X_train)\n",
    "trainX[label] = y_train\n",
    "\n",
    "testX = pd.DataFrame(X_test)\n",
    "testX[label] = y_test"
   ]
  },
  {
   "cell_type": "code",
   "execution_count": 16,
   "id": "bea2b34d-c415-4081-8964-e17e2e11f213",
   "metadata": {
    "tags": []
   },
   "outputs": [
    {
     "name": "stdout",
     "output_type": "stream",
     "text": [
      "(908, 52)\n",
      "(228, 52)\n"
     ]
    }
   ],
   "source": [
    "print(trainX.shape)\n",
    "print(testX.shape)"
   ]
  },
  {
   "cell_type": "code",
   "execution_count": 17,
   "id": "d6db0d89-6852-4ad5-b015-3a11967fd3dc",
   "metadata": {
    "tags": []
   },
   "outputs": [
    {
     "data": {
      "text/html": [
       "<div>\n",
       "<style scoped>\n",
       "    .dataframe tbody tr th:only-of-type {\n",
       "        vertical-align: middle;\n",
       "    }\n",
       "\n",
       "    .dataframe tbody tr th {\n",
       "        vertical-align: top;\n",
       "    }\n",
       "\n",
       "    .dataframe thead th {\n",
       "        text-align: right;\n",
       "    }\n",
       "</style>\n",
       "<table border=\"1\" class=\"dataframe\">\n",
       "  <thead>\n",
       "    <tr style=\"text-align: right;\">\n",
       "      <th></th>\n",
       "      <th>Rainfall(mm)</th>\n",
       "      <th>Minimum Temparature(C)</th>\n",
       "      <th>Maximum Temperature (C)</th>\n",
       "      <th>Ph</th>\n",
       "      <th>N(Kg/Hectar)</th>\n",
       "      <th>P(Kg/Hectar)</th>\n",
       "      <th>K(Kg/Hectar)</th>\n",
       "      <th>Zn(ppm)</th>\n",
       "      <th>Fe(ppm)</th>\n",
       "      <th>Cu(ppm)</th>\n",
       "      <th>...</th>\n",
       "      <th>District_Warangal urban</th>\n",
       "      <th>District_Yadadri</th>\n",
       "      <th>Season_Kharif</th>\n",
       "      <th>Season_rabi</th>\n",
       "      <th>Crop_Groundnut</th>\n",
       "      <th>Crop_Maize</th>\n",
       "      <th>Crop_Moong(Green Gram)</th>\n",
       "      <th>Crop_Rice</th>\n",
       "      <th>Crop_cotton(lint)</th>\n",
       "      <th>Yield (Bales/Hectare)</th>\n",
       "    </tr>\n",
       "  </thead>\n",
       "  <tbody>\n",
       "    <tr>\n",
       "      <th>144</th>\n",
       "      <td>240.52</td>\n",
       "      <td>27.300000</td>\n",
       "      <td>38.300000</td>\n",
       "      <td>7.55</td>\n",
       "      <td>180.0</td>\n",
       "      <td>17.60</td>\n",
       "      <td>284.00</td>\n",
       "      <td>1.35</td>\n",
       "      <td>14.00</td>\n",
       "      <td>0.58</td>\n",
       "      <td>...</td>\n",
       "      <td>0</td>\n",
       "      <td>0</td>\n",
       "      <td>1</td>\n",
       "      <td>0</td>\n",
       "      <td>0</td>\n",
       "      <td>1</td>\n",
       "      <td>0</td>\n",
       "      <td>0</td>\n",
       "      <td>0</td>\n",
       "      <td>3.46</td>\n",
       "    </tr>\n",
       "    <tr>\n",
       "      <th>519</th>\n",
       "      <td>255.82</td>\n",
       "      <td>17.600000</td>\n",
       "      <td>46.000000</td>\n",
       "      <td>7.52</td>\n",
       "      <td>252.0</td>\n",
       "      <td>21.30</td>\n",
       "      <td>323.30</td>\n",
       "      <td>0.90</td>\n",
       "      <td>11.27</td>\n",
       "      <td>2.68</td>\n",
       "      <td>...</td>\n",
       "      <td>0</td>\n",
       "      <td>0</td>\n",
       "      <td>1</td>\n",
       "      <td>0</td>\n",
       "      <td>0</td>\n",
       "      <td>0</td>\n",
       "      <td>0</td>\n",
       "      <td>1</td>\n",
       "      <td>0</td>\n",
       "      <td>4.15</td>\n",
       "    </tr>\n",
       "    <tr>\n",
       "      <th>762</th>\n",
       "      <td>9.70</td>\n",
       "      <td>30.000000</td>\n",
       "      <td>41.900000</td>\n",
       "      <td>7.50</td>\n",
       "      <td>97.0</td>\n",
       "      <td>35.02</td>\n",
       "      <td>268.00</td>\n",
       "      <td>0.75</td>\n",
       "      <td>9.80</td>\n",
       "      <td>0.71</td>\n",
       "      <td>...</td>\n",
       "      <td>0</td>\n",
       "      <td>0</td>\n",
       "      <td>0</td>\n",
       "      <td>1</td>\n",
       "      <td>0</td>\n",
       "      <td>1</td>\n",
       "      <td>0</td>\n",
       "      <td>0</td>\n",
       "      <td>0</td>\n",
       "      <td>6.81</td>\n",
       "    </tr>\n",
       "    <tr>\n",
       "      <th>100</th>\n",
       "      <td>129.30</td>\n",
       "      <td>23.933333</td>\n",
       "      <td>39.266667</td>\n",
       "      <td>7.53</td>\n",
       "      <td>290.3</td>\n",
       "      <td>50.25</td>\n",
       "      <td>256.15</td>\n",
       "      <td>1.45</td>\n",
       "      <td>7.90</td>\n",
       "      <td>3.05</td>\n",
       "      <td>...</td>\n",
       "      <td>0</td>\n",
       "      <td>0</td>\n",
       "      <td>1</td>\n",
       "      <td>0</td>\n",
       "      <td>0</td>\n",
       "      <td>0</td>\n",
       "      <td>0</td>\n",
       "      <td>0</td>\n",
       "      <td>1</td>\n",
       "      <td>2.69</td>\n",
       "    </tr>\n",
       "    <tr>\n",
       "      <th>73</th>\n",
       "      <td>106.62</td>\n",
       "      <td>26.500000</td>\n",
       "      <td>36.000000</td>\n",
       "      <td>7.30</td>\n",
       "      <td>184.6</td>\n",
       "      <td>16.90</td>\n",
       "      <td>232.90</td>\n",
       "      <td>1.10</td>\n",
       "      <td>13.02</td>\n",
       "      <td>1.36</td>\n",
       "      <td>...</td>\n",
       "      <td>0</td>\n",
       "      <td>0</td>\n",
       "      <td>1</td>\n",
       "      <td>0</td>\n",
       "      <td>0</td>\n",
       "      <td>0</td>\n",
       "      <td>0</td>\n",
       "      <td>0</td>\n",
       "      <td>1</td>\n",
       "      <td>1.53</td>\n",
       "    </tr>\n",
       "  </tbody>\n",
       "</table>\n",
       "<p>5 rows × 52 columns</p>\n",
       "</div>"
      ],
      "text/plain": [
       "     Rainfall(mm)  Minimum Temparature(C)  Maximum Temperature (C)    Ph  \\\n",
       "144        240.52               27.300000                38.300000  7.55   \n",
       "519        255.82               17.600000                46.000000  7.52   \n",
       "762          9.70               30.000000                41.900000  7.50   \n",
       "100        129.30               23.933333                39.266667  7.53   \n",
       "73         106.62               26.500000                36.000000  7.30   \n",
       "\n",
       "     N(Kg/Hectar)  P(Kg/Hectar)  K(Kg/Hectar)  Zn(ppm)  Fe(ppm)  Cu(ppm)  ...  \\\n",
       "144         180.0         17.60        284.00     1.35    14.00     0.58  ...   \n",
       "519         252.0         21.30        323.30     0.90    11.27     2.68  ...   \n",
       "762          97.0         35.02        268.00     0.75     9.80     0.71  ...   \n",
       "100         290.3         50.25        256.15     1.45     7.90     3.05  ...   \n",
       "73          184.6         16.90        232.90     1.10    13.02     1.36  ...   \n",
       "\n",
       "     District_Warangal urban  District_Yadadri  Season_Kharif  Season_rabi  \\\n",
       "144                        0                 0              1            0   \n",
       "519                        0                 0              1            0   \n",
       "762                        0                 0              0            1   \n",
       "100                        0                 0              1            0   \n",
       "73                         0                 0              1            0   \n",
       "\n",
       "     Crop_Groundnut  Crop_Maize  Crop_Moong(Green Gram)  Crop_Rice  \\\n",
       "144               0           1                       0          0   \n",
       "519               0           0                       0          1   \n",
       "762               0           1                       0          0   \n",
       "100               0           0                       0          0   \n",
       "73                0           0                       0          0   \n",
       "\n",
       "     Crop_cotton(lint)  Yield (Bales/Hectare)  \n",
       "144                  0                   3.46  \n",
       "519                  0                   4.15  \n",
       "762                  0                   6.81  \n",
       "100                  1                   2.69  \n",
       "73                   1                   1.53  \n",
       "\n",
       "[5 rows x 52 columns]"
      ]
     },
     "execution_count": 17,
     "metadata": {},
     "output_type": "execute_result"
    }
   ],
   "source": [
    "trainX.head()"
   ]
  },
  {
   "cell_type": "code",
   "execution_count": 18,
   "id": "e4d1fb8d-2126-4b6b-8833-bdf69a5f442a",
   "metadata": {
    "tags": []
   },
   "outputs": [],
   "source": [
    "trainX.to_csv(\"train-V-1.csv\",index = False)\n",
    "testX.to_csv(\"test-V-1.csv\", index = False)"
   ]
  },
  {
   "cell_type": "code",
   "execution_count": 19,
   "id": "c721715f-0bbd-4018-a3c4-bd96c0afc90b",
   "metadata": {
    "tags": []
   },
   "outputs": [],
   "source": [
    "sk_prefix = \"sagemaker/last/sklearncontainer\"\n",
    "trainpath = sess.upload_data(\n",
    "    path=\"train-V-1.csv\", bucket=bucket, key_prefix=sk_prefix\n",
    ")\n",
    "\n",
    "testpath = sess.upload_data(\n",
    "    path=\"test-V-1.csv\", bucket=bucket, key_prefix=sk_prefix\n",
    ")"
   ]
  },
  {
   "cell_type": "code",
   "execution_count": 20,
   "id": "3f8986ae-1304-4df1-9838-1ceb80499ac5",
   "metadata": {
    "tags": []
   },
   "outputs": [
    {
     "data": {
      "text/plain": [
       "'s3://myyieldbucket/sagemaker/last/sklearncontainer/test-V-1.csv'"
      ]
     },
     "execution_count": 20,
     "metadata": {},
     "output_type": "execute_result"
    }
   ],
   "source": [
    "testpath"
   ]
  },
  {
   "cell_type": "code",
   "execution_count": 21,
   "id": "d1d018da-98fd-4171-87af-10f0ec8d61d6",
   "metadata": {
    "tags": []
   },
   "outputs": [
    {
     "data": {
      "text/plain": [
       "'s3://myyieldbucket/sagemaker/last/sklearncontainer/train-V-1.csv'"
      ]
     },
     "execution_count": 21,
     "metadata": {},
     "output_type": "execute_result"
    }
   ],
   "source": [
    "trainpath"
   ]
  },
  {
   "cell_type": "code",
   "execution_count": 22,
   "id": "10da4846-fe88-4f21-afbd-f7a81101968a",
   "metadata": {
    "tags": []
   },
   "outputs": [
    {
     "name": "stdout",
     "output_type": "stream",
     "text": [
      "Writing script.py\n"
     ]
    }
   ],
   "source": [
    "%%writefile script.py\n",
    "\n",
    "\n",
    "from sklearn.ensemble import RandomForestRegressor\n",
    "from sklearn.metrics import r2_score, mean_squared_error\n",
    "import sklearn\n",
    "import joblib\n",
    "import boto3\n",
    "import pathlib\n",
    "from io import StringIO \n",
    "import argparse\n",
    "import joblib\n",
    "import os\n",
    "import numpy as np\n",
    "import pandas as pd\n",
    "\n",
    "\n",
    "def input_fn(request_body, request_content_type):\n",
    "    print(request_body)\n",
    "    print(request_content_type)\n",
    "    if request_content_type == \"text/csv\":\n",
    "        request_body = request_body.strip()\n",
    "        try:\n",
    "            df = pd.read_csv(StringIO(request_body), header=None)\n",
    "            return df\n",
    "        \n",
    "        except Exception as e:\n",
    "            print(e)\n",
    "    else:\n",
    "        return \"\"\"Please use Content-Type = 'text/csv' and, send the request!!\"\"\" \n",
    " \n",
    "    \n",
    "def model_fn(model_dir):\n",
    "    clf = joblib.load(os.path.join(model_dir, \"model.joblib\"))\n",
    "    return clf\n",
    "\n",
    "def predict_fn(input_data, model):\n",
    "    if type(input_data) != str:\n",
    "        prediction = model.predict(input_data)\n",
    "        print(prediction)\n",
    "        return prediction\n",
    "    else:\n",
    "        return input_data\n",
    "        \n",
    "    \n",
    "if __name__ == \"__main__\":\n",
    "\n",
    "    print(\"[INFO] Extracting arguments\")\n",
    "    parser = argparse.ArgumentParser()\n",
    "\n",
    "    # hyperparameters sent by the client are passed as command-line arguments to the script.\n",
    "    parser.add_argument(\"--n_estimators\", type=int, default=100)\n",
    "    parser.add_argument(\"--random_state\", type=int, default=42)\n",
    "\n",
    "    # Data, model, and output directories\n",
    "    parser.add_argument(\"--model-dir\", type=str, default=os.environ.get(\"SM_MODEL_DIR\"))\n",
    "    parser.add_argument(\"--train\", type=str, default=os.environ.get(\"SM_CHANNEL_TRAIN\"))\n",
    "    parser.add_argument(\"--test\", type=str, default=os.environ.get(\"SM_CHANNEL_TEST\"))\n",
    "    parser.add_argument(\"--train-file\", type=str, default=\"train-V-1.csv\")\n",
    "    parser.add_argument(\"--test-file\", type=str, default=\"test-V-1.csv\")\n",
    "\n",
    "    args, _ = parser.parse_known_args()\n",
    "    \n",
    "    print(\"SKLearn Version: \", sklearn.__version__)\n",
    "    print(\"Joblib Version: \", joblib.__version__)\n",
    "\n",
    "    print(\"[INFO] Reading data\")\n",
    "    print()\n",
    "    train_df = pd.read_csv(os.path.join(args.train, args.train_file))\n",
    "    test_df = pd.read_csv(os.path.join(args.test, args.test_file))\n",
    "    \n",
    "    # features = list(train_df.drop('Yield (Bales/Hectare)',axis=1).values)\n",
    "    features = list(train_df.columns)\n",
    "    label = features.pop(-1)\n",
    "    \n",
    "    print(\"Building training and testing datasets\")\n",
    "    print()\n",
    "    X_train = train_df[features]\n",
    "    X_test = test_df[features]\n",
    "    y_train = train_df[label]\n",
    "    y_test = test_df[label]\n",
    "\n",
    "    print('Column order: ')\n",
    "    print(features)\n",
    "    print()\n",
    "    \n",
    "    print(\"Label column is: \",label)\n",
    "    print()\n",
    "    \n",
    "    print(\"Data Shape: \")\n",
    "    print()\n",
    "    print(\"---- SHAPE OF TRAINING DATA (85%) ----\")\n",
    "    print(X_train.shape)\n",
    "    print(y_train.shape)\n",
    "    print()\n",
    "    print(\"---- SHAPE OF TESTING DATA (15%) ----\")\n",
    "    print(X_test.shape)\n",
    "    print(y_test.shape)\n",
    "    print()\n",
    "    \n",
    "  \n",
    "    print(\"Training RandomForest Model.....\")\n",
    "    print()\n",
    "    model =  RandomForestRegressor(n_estimators=args.n_estimators, random_state=args.random_state)\n",
    "    model.fit(X_train, y_train)\n",
    "    print()\n",
    "    \n",
    "\n",
    "    model_path = os.path.join(args.model_dir, \"model.joblib\")\n",
    "    joblib.dump(model,model_path)\n",
    "    print(\"Model persisted at \" + model_path)\n",
    "    print()\n",
    "\n",
    "    \n",
    "    y_pred_test = model.predict(X_test)\n",
    "    test_acc = r2_score(y_test,y_pred_test)\n",
    "    test_rep = mean_squared_error(y_test,y_pred_test)\n",
    "\n",
    "    print()\n",
    "    print(\"---- METRICS RESULTS FOR TESTING DATA ----\")\n",
    "    print()\n",
    "    print(\"Total Rows are: \", X_test.shape[0])\n",
    "    print('[TESTING] Model Accuracy is: ', test_acc)\n",
    "    print('[TESTING] Testing Report: ')\n",
    "    print(test_rep)"
   ]
  },
  {
   "cell_type": "code",
   "execution_count": 23,
   "id": "ecb3f416-7b91-42c0-8b22-7858f0289b99",
   "metadata": {
    "tags": []
   },
   "outputs": [
    {
     "name": "stdout",
     "output_type": "stream",
     "text": [
      "[INFO] Extracting arguments\n",
      "SKLearn Version:  0.22.1\n",
      "Joblib Version:  1.2.0\n",
      "[INFO] Reading data\n",
      "\n",
      "Building training and testing datasets\n",
      "\n",
      "Column order: \n",
      "['Rainfall(mm)', 'Minimum Temparature(C)', 'Maximum Temperature (C)', 'Ph', 'N(Kg/Hectar)', 'P(Kg/Hectar)', 'K(Kg/Hectar)', 'Zn(ppm)', 'Fe(ppm)', 'Cu(ppm)', 'Mn(ppm)', 'Irrigation(MBGL)', 'District_Adilabad', 'District_Bhadradri', 'District_Jagitial', 'District_Jangoan', 'District_Jayashankar', 'District_Jogulamba', 'District_Kamareddy', 'District_Karimnagar', 'District_Khammam', 'District_Komaram bheem asifabad', 'District_Mahabubabad', 'District_Mahbubnagar', 'District_Mancherial', 'District_Medak', 'District_Medchal', 'District_Mulugu', 'District_Nagarkurnool', 'District_Nalgonda', 'District_Narayanapet', 'District_Nirmal', 'District_Nizamabad', 'District_Peddapalli', 'District_Rajanna', 'District_Rangareddy', 'District_Sangareddy', 'District_Siddipet', 'District_Suryapet', 'District_Vikarabad', 'District_Wanaparthy', 'District_Warangal', 'District_Warangal urban', 'District_Yadadri', 'Season_Kharif', 'Season_rabi', 'Crop_Groundnut', 'Crop_Maize', 'Crop_Moong(Green Gram)', 'Crop_Rice', 'Crop_cotton(lint)']\n",
      "\n",
      "Label column is:  Yield (Bales/Hectare)\n",
      "\n",
      "Data Shape: \n",
      "\n",
      "---- SHAPE OF TRAINING DATA (85%) ----\n",
      "(908, 51)\n",
      "(908,)\n",
      "\n",
      "---- SHAPE OF TESTING DATA (15%) ----\n",
      "(228, 51)\n",
      "(228,)\n",
      "\n",
      "Training RandomForest Model.....\n",
      "\n",
      "\n",
      "Model persisted at ./model.joblib\n",
      "\n",
      "\n",
      "---- METRICS RESULTS FOR TESTING DATA ----\n",
      "\n",
      "Total Rows are:  228\n",
      "[TESTING] Model Accuracy is:  0.8936863069920662\n",
      "[TESTING] Testing Report: \n",
      "0.4295997223163756\n"
     ]
    }
   ],
   "source": [
    "! python script.py --n_estimators 100 \\\n",
    "                   --random_state 19 \\\n",
    "                   --model-dir ./ \\\n",
    "                   --train ./ \\\n",
    "                   --test ./ \\"
   ]
  },
  {
   "cell_type": "code",
   "execution_count": 24,
   "id": "65ed9707-bb6e-46cc-b753-dbcaca2a7f6f",
   "metadata": {
    "tags": []
   },
   "outputs": [],
   "source": [
    "from sagemaker.sklearn.estimator import SKLearn\n",
    "\n",
    "FRAMEWORK_VERSION = \"0.23-1\"\n",
    "\n",
    "sklearn_estimator = SKLearn(\n",
    "    entry_point=\"script.py\",\n",
    "    role=get_execution_role(),\n",
    "    instance_count=1,\n",
    "    instance_type=\"ml.m5.large\",\n",
    "    framework_version=FRAMEWORK_VERSION,\n",
    "    base_job_name=\"RF-custom-sklearn\",\n",
    "    hyperparameters={\n",
    "        \"n_estimators\": 100,\n",
    "        \"random_state\": 42,\n",
    "    },\n",
    "    use_spot_instances = True,\n",
    "    max_wait = 7200,\n",
    "    max_run = 3600\n",
    ")"
   ]
  },
  {
   "cell_type": "code",
   "execution_count": 25,
   "id": "f042d48d-2b09-4ca2-b4e2-6d2a1d856157",
   "metadata": {
    "tags": []
   },
   "outputs": [
    {
     "name": "stderr",
     "output_type": "stream",
     "text": [
      "INFO:sagemaker:Creating training-job with name: RF-custom-sklearn-2023-07-13-09-23-58-584\n"
     ]
    },
    {
     "name": "stdout",
     "output_type": "stream",
     "text": [
      "Using provided s3_resource\n",
      "2023-07-13 09:23:58 Starting - Starting the training job...\n",
      "2023-07-13 09:24:14 Starting - Preparing the instances for training......\n",
      "2023-07-13 09:25:03 Downloading - Downloading input data...\n",
      "2023-07-13 09:25:34 Training - Downloading the training image...\n",
      "2023-07-13 09:26:19 Uploading - Uploading generated training model\u001b[34m2023-07-13 09:26:12,145 sagemaker-containers INFO     Imported framework sagemaker_sklearn_container.training\u001b[0m\n",
      "\u001b[34m2023-07-13 09:26:12,149 sagemaker-training-toolkit INFO     No GPUs detected (normal if no gpus installed)\u001b[0m\n",
      "\u001b[34m2023-07-13 09:26:12,189 sagemaker_sklearn_container.training INFO     Invoking user training script.\u001b[0m\n",
      "\u001b[34m2023-07-13 09:26:12,340 sagemaker-training-toolkit INFO     No GPUs detected (normal if no gpus installed)\u001b[0m\n",
      "\u001b[34m2023-07-13 09:26:12,353 sagemaker-training-toolkit INFO     No GPUs detected (normal if no gpus installed)\u001b[0m\n",
      "\u001b[34m2023-07-13 09:26:12,367 sagemaker-training-toolkit INFO     No GPUs detected (normal if no gpus installed)\u001b[0m\n",
      "\u001b[34m2023-07-13 09:26:12,376 sagemaker-training-toolkit INFO     Invoking user script\u001b[0m\n",
      "\u001b[34mTraining Env:\u001b[0m\n",
      "\u001b[34m{\n",
      "    \"additional_framework_parameters\": {},\n",
      "    \"channel_input_dirs\": {\n",
      "        \"test\": \"/opt/ml/input/data/test\",\n",
      "        \"train\": \"/opt/ml/input/data/train\"\n",
      "    },\n",
      "    \"current_host\": \"algo-1\",\n",
      "    \"framework_module\": \"sagemaker_sklearn_container.training:main\",\n",
      "    \"hosts\": [\n",
      "        \"algo-1\"\n",
      "    ],\n",
      "    \"hyperparameters\": {\n",
      "        \"n_estimators\": 100,\n",
      "        \"random_state\": 42\n",
      "    },\n",
      "    \"input_config_dir\": \"/opt/ml/input/config\",\n",
      "    \"input_data_config\": {\n",
      "        \"test\": {\n",
      "            \"TrainingInputMode\": \"File\",\n",
      "            \"S3DistributionType\": \"FullyReplicated\",\n",
      "            \"RecordWrapperType\": \"None\"\n",
      "        },\n",
      "        \"train\": {\n",
      "            \"TrainingInputMode\": \"File\",\n",
      "            \"S3DistributionType\": \"FullyReplicated\",\n",
      "            \"RecordWrapperType\": \"None\"\n",
      "        }\n",
      "    },\n",
      "    \"input_dir\": \"/opt/ml/input\",\n",
      "    \"is_master\": true,\n",
      "    \"job_name\": \"RF-custom-sklearn-2023-07-13-09-23-58-584\",\n",
      "    \"log_level\": 20,\n",
      "    \"master_hostname\": \"algo-1\",\n",
      "    \"model_dir\": \"/opt/ml/model\",\n",
      "    \"module_dir\": \"s3://sagemaker-ap-south-1-109204713374/RF-custom-sklearn-2023-07-13-09-23-58-584/source/sourcedir.tar.gz\",\n",
      "    \"module_name\": \"script\",\n",
      "    \"network_interface_name\": \"eth0\",\n",
      "    \"num_cpus\": 2,\n",
      "    \"num_gpus\": 0,\n",
      "    \"output_data_dir\": \"/opt/ml/output/data\",\n",
      "    \"output_dir\": \"/opt/ml/output\",\n",
      "    \"output_intermediate_dir\": \"/opt/ml/output/intermediate\",\n",
      "    \"resource_config\": {\n",
      "        \"current_host\": \"algo-1\",\n",
      "        \"current_instance_type\": \"ml.m5.large\",\n",
      "        \"current_group_name\": \"homogeneousCluster\",\n",
      "        \"hosts\": [\n",
      "            \"algo-1\"\n",
      "        ],\n",
      "        \"instance_groups\": [\n",
      "            {\n",
      "                \"instance_group_name\": \"homogeneousCluster\",\n",
      "                \"instance_type\": \"ml.m5.large\",\n",
      "                \"hosts\": [\n",
      "                    \"algo-1\"\n",
      "                ]\n",
      "            }\n",
      "        ],\n",
      "        \"network_interface_name\": \"eth0\"\n",
      "    },\n",
      "    \"user_entry_point\": \"script.py\"\u001b[0m\n",
      "\u001b[34m}\u001b[0m\n",
      "\u001b[34mEnvironment variables:\u001b[0m\n",
      "\u001b[34mSM_HOSTS=[\"algo-1\"]\u001b[0m\n",
      "\u001b[34mSM_NETWORK_INTERFACE_NAME=eth0\u001b[0m\n",
      "\u001b[34mSM_HPS={\"n_estimators\":100,\"random_state\":42}\u001b[0m\n",
      "\u001b[34mSM_USER_ENTRY_POINT=script.py\u001b[0m\n",
      "\u001b[34mSM_FRAMEWORK_PARAMS={}\u001b[0m\n",
      "\u001b[34mSM_RESOURCE_CONFIG={\"current_group_name\":\"homogeneousCluster\",\"current_host\":\"algo-1\",\"current_instance_type\":\"ml.m5.large\",\"hosts\":[\"algo-1\"],\"instance_groups\":[{\"hosts\":[\"algo-1\"],\"instance_group_name\":\"homogeneousCluster\",\"instance_type\":\"ml.m5.large\"}],\"network_interface_name\":\"eth0\"}\u001b[0m\n",
      "\u001b[34mSM_INPUT_DATA_CONFIG={\"test\":{\"RecordWrapperType\":\"None\",\"S3DistributionType\":\"FullyReplicated\",\"TrainingInputMode\":\"File\"},\"train\":{\"RecordWrapperType\":\"None\",\"S3DistributionType\":\"FullyReplicated\",\"TrainingInputMode\":\"File\"}}\u001b[0m\n",
      "\u001b[34mSM_OUTPUT_DATA_DIR=/opt/ml/output/data\u001b[0m\n",
      "\u001b[34mSM_CHANNELS=[\"test\",\"train\"]\u001b[0m\n",
      "\u001b[34mSM_CURRENT_HOST=algo-1\u001b[0m\n",
      "\u001b[34mSM_MODULE_NAME=script\u001b[0m\n",
      "\u001b[34mSM_LOG_LEVEL=20\u001b[0m\n",
      "\u001b[34mSM_FRAMEWORK_MODULE=sagemaker_sklearn_container.training:main\u001b[0m\n",
      "\u001b[34mSM_INPUT_DIR=/opt/ml/input\u001b[0m\n",
      "\u001b[34mSM_INPUT_CONFIG_DIR=/opt/ml/input/config\u001b[0m\n",
      "\u001b[34mSM_OUTPUT_DIR=/opt/ml/output\u001b[0m\n",
      "\u001b[34mSM_NUM_CPUS=2\u001b[0m\n",
      "\u001b[34mSM_NUM_GPUS=0\u001b[0m\n",
      "\u001b[34mSM_MODEL_DIR=/opt/ml/model\u001b[0m\n",
      "\u001b[34mSM_MODULE_DIR=s3://sagemaker-ap-south-1-109204713374/RF-custom-sklearn-2023-07-13-09-23-58-584/source/sourcedir.tar.gz\u001b[0m\n",
      "\u001b[34mSM_TRAINING_ENV={\"additional_framework_parameters\":{},\"channel_input_dirs\":{\"test\":\"/opt/ml/input/data/test\",\"train\":\"/opt/ml/input/data/train\"},\"current_host\":\"algo-1\",\"framework_module\":\"sagemaker_sklearn_container.training:main\",\"hosts\":[\"algo-1\"],\"hyperparameters\":{\"n_estimators\":100,\"random_state\":42},\"input_config_dir\":\"/opt/ml/input/config\",\"input_data_config\":{\"test\":{\"RecordWrapperType\":\"None\",\"S3DistributionType\":\"FullyReplicated\",\"TrainingInputMode\":\"File\"},\"train\":{\"RecordWrapperType\":\"None\",\"S3DistributionType\":\"FullyReplicated\",\"TrainingInputMode\":\"File\"}},\"input_dir\":\"/opt/ml/input\",\"is_master\":true,\"job_name\":\"RF-custom-sklearn-2023-07-13-09-23-58-584\",\"log_level\":20,\"master_hostname\":\"algo-1\",\"model_dir\":\"/opt/ml/model\",\"module_dir\":\"s3://sagemaker-ap-south-1-109204713374/RF-custom-sklearn-2023-07-13-09-23-58-584/source/sourcedir.tar.gz\",\"module_name\":\"script\",\"network_interface_name\":\"eth0\",\"num_cpus\":2,\"num_gpus\":0,\"output_data_dir\":\"/opt/ml/output/data\",\"output_dir\":\"/opt/ml/output\",\"output_intermediate_dir\":\"/opt/ml/output/intermediate\",\"resource_config\":{\"current_group_name\":\"homogeneousCluster\",\"current_host\":\"algo-1\",\"current_instance_type\":\"ml.m5.large\",\"hosts\":[\"algo-1\"],\"instance_groups\":[{\"hosts\":[\"algo-1\"],\"instance_group_name\":\"homogeneousCluster\",\"instance_type\":\"ml.m5.large\"}],\"network_interface_name\":\"eth0\"},\"user_entry_point\":\"script.py\"}\u001b[0m\n",
      "\u001b[34mSM_USER_ARGS=[\"--n_estimators\",\"100\",\"--random_state\",\"42\"]\u001b[0m\n",
      "\u001b[34mSM_OUTPUT_INTERMEDIATE_DIR=/opt/ml/output/intermediate\u001b[0m\n",
      "\u001b[34mSM_CHANNEL_TEST=/opt/ml/input/data/test\u001b[0m\n",
      "\u001b[34mSM_CHANNEL_TRAIN=/opt/ml/input/data/train\u001b[0m\n",
      "\u001b[34mSM_HP_N_ESTIMATORS=100\u001b[0m\n",
      "\u001b[34mSM_HP_RANDOM_STATE=42\u001b[0m\n",
      "\u001b[34mPYTHONPATH=/opt/ml/code:/miniconda3/bin:/miniconda3/lib/python37.zip:/miniconda3/lib/python3.7:/miniconda3/lib/python3.7/lib-dynload:/miniconda3/lib/python3.7/site-packages\u001b[0m\n",
      "\u001b[34mInvoking script with the following command:\u001b[0m\n",
      "\u001b[34m/miniconda3/bin/python script.py --n_estimators 100 --random_state 42\u001b[0m\n",
      "\u001b[34m[INFO] Extracting arguments\u001b[0m\n",
      "\u001b[34mSKLearn Version:  0.23.2\u001b[0m\n",
      "\u001b[34mJoblib Version:  1.2.0\u001b[0m\n",
      "\u001b[34m[INFO] Reading data\u001b[0m\n",
      "\u001b[34mBuilding training and testing datasets\u001b[0m\n",
      "\u001b[34mColumn order: \u001b[0m\n",
      "\u001b[34m['Rainfall(mm)', 'Minimum Temparature(C)', 'Maximum Temperature (C)', 'Ph', 'N(Kg/Hectar)', 'P(Kg/Hectar)', 'K(Kg/Hectar)', 'Zn(ppm)', 'Fe(ppm)', 'Cu(ppm)', 'Mn(ppm)', 'Irrigation(MBGL)', 'District_Adilabad', 'District_Bhadradri', 'District_Jagitial', 'District_Jangoan', 'District_Jayashankar', 'District_Jogulamba', 'District_Kamareddy', 'District_Karimnagar', 'District_Khammam', 'District_Komaram bheem asifabad', 'District_Mahabubabad', 'District_Mahbubnagar', 'District_Mancherial', 'District_Medak', 'District_Medchal', 'District_Mulugu', 'District_Nagarkurnool', 'District_Nalgonda', 'District_Narayanapet', 'District_Nirmal', 'District_Nizamabad', 'District_Peddapalli', 'District_Rajanna', 'District_Rangareddy', 'District_Sangareddy', 'District_Siddipet', 'District_Suryapet', 'District_Vikarabad', 'District_Wanaparthy', 'District_Warangal', 'District_Warangal urban', 'District_Yadadri', 'Season_Kharif', 'Season_rabi', 'Crop_Groundnut', 'Crop_Maize', 'Crop_Moong(Green Gram)', 'Crop_Rice', 'Crop_cotton(lint)']\u001b[0m\n",
      "\u001b[34mLabel column is:  Yield (Bales/Hectare)\u001b[0m\n",
      "\u001b[34mData Shape: \u001b[0m\n",
      "\u001b[34m---- SHAPE OF TRAINING DATA (85%) ----\u001b[0m\n",
      "\u001b[34m(908, 51)\u001b[0m\n",
      "\u001b[34m(908,)\u001b[0m\n",
      "\u001b[34m---- SHAPE OF TESTING DATA (15%) ----\u001b[0m\n",
      "\u001b[34m(228, 51)\u001b[0m\n",
      "\u001b[34m(228,)\u001b[0m\n",
      "\u001b[34mTraining RandomForest Model.....\u001b[0m\n",
      "\u001b[34mModel persisted at /opt/ml/model/model.joblib\u001b[0m\n",
      "\u001b[34m---- METRICS RESULTS FOR TESTING DATA ----\u001b[0m\n",
      "\u001b[34mTotal Rows are:  228\u001b[0m\n",
      "\u001b[34m[TESTING] Model Accuracy is:  0.8943012271848912\u001b[0m\n",
      "\u001b[34m[TESTING] Testing Report: \u001b[0m\n",
      "\u001b[34m0.4271149102793723\u001b[0m\n",
      "\u001b[34m2023-07-13 09:26:14,177 sagemaker-containers INFO     Reporting training SUCCESS\u001b[0m\n",
      "\n",
      "2023-07-13 09:26:30 Completed - Training job completed\n",
      "Training seconds: 87\n",
      "Billable seconds: 36\n",
      "Managed Spot Training savings: 58.6%\n"
     ]
    }
   ],
   "source": [
    "# launch training job, with asynchronous call\n",
    "sklearn_estimator.fit({\"train\": trainpath, \"test\": testpath}, wait=True)\n",
    "# sklearn_estimator.fit({\"train\": datapath}, wait=True)"
   ]
  },
  {
   "cell_type": "code",
   "execution_count": 26,
   "id": "199d74e6-bc3a-4acc-b4aa-3130b0a04431",
   "metadata": {
    "tags": []
   },
   "outputs": [
    {
     "name": "stdout",
     "output_type": "stream",
     "text": [
      "\n",
      "2023-07-13 09:26:30 Starting - Preparing the instances for training\n",
      "2023-07-13 09:26:30 Downloading - Downloading input data\n",
      "2023-07-13 09:26:30 Training - Training image download completed. Training in progress.\n",
      "2023-07-13 09:26:30 Uploading - Uploading generated training model\n",
      "2023-07-13 09:26:30 Completed - Training job completed\n",
      "Model artifact persisted at s3://sagemaker-ap-south-1-109204713374/RF-custom-sklearn-2023-07-13-09-23-58-584/output/model.tar.gz\n"
     ]
    }
   ],
   "source": [
    "sklearn_estimator.latest_training_job.wait(logs=\"None\")\n",
    "artifact = sm_boto3.describe_training_job(\n",
    "    TrainingJobName=sklearn_estimator.latest_training_job.name\n",
    ")[\"ModelArtifacts\"][\"S3ModelArtifacts\"]\n",
    "\n",
    "print(\"Model artifact persisted at \" + artifact)"
   ]
  },
  {
   "cell_type": "code",
   "execution_count": 27,
   "id": "c2b96f62-b55d-4451-ab82-79a6b33cf694",
   "metadata": {
    "tags": []
   },
   "outputs": [],
   "source": [
    "from sagemaker.sklearn.model import SKLearnModel\n",
    "from time import gmtime, strftime\n",
    "\n",
    "model_name = \"Custom-sklearn-model-\" + strftime(\"%Y-%m-%d-%H-%M-%S\", gmtime())\n",
    "model = SKLearnModel(\n",
    "    name =  model_name,\n",
    "    model_data=artifact,\n",
    "    role=get_execution_role(),\n",
    "    entry_point=\"script.py\",\n",
    "    framework_version=FRAMEWORK_VERSION,\n",
    ")"
   ]
  },
  {
   "cell_type": "code",
   "execution_count": 28,
   "id": "80d81dad-f1e1-4a1a-b5e0-57f57c3b0f67",
   "metadata": {
    "tags": []
   },
   "outputs": [
    {
     "name": "stdout",
     "output_type": "stream",
     "text": [
      "EndpointName=Custom-sklearn-model-2023-07-13-09-27-19\n"
     ]
    },
    {
     "name": "stderr",
     "output_type": "stream",
     "text": [
      "INFO:sagemaker:Creating model with name: Custom-sklearn-model-2023-07-13-09-27-19\n",
      "INFO:sagemaker:Creating endpoint-config with name Custom-sklearn-model-2023-07-13-09-27-19\n",
      "INFO:sagemaker:Creating endpoint with name Custom-sklearn-model-2023-07-13-09-27-19\n"
     ]
    },
    {
     "name": "stdout",
     "output_type": "stream",
     "text": [
      "-----!"
     ]
    }
   ],
   "source": [
    "endpoint_name = \"Custom-sklearn-model-\" + strftime(\"%Y-%m-%d-%H-%M-%S\", gmtime())\n",
    "print(\"EndpointName={}\".format(endpoint_name))\n",
    "\n",
    "predictor = model.deploy(\n",
    "    initial_instance_count=1,\n",
    "    instance_type=\"ml.m4.xlarge\",\n",
    "    endpoint_name=endpoint_name,\n",
    ")"
   ]
  },
  {
   "cell_type": "code",
   "execution_count": 29,
   "id": "cf9929b1-7b8b-49eb-add2-22606a5404fc",
   "metadata": {
    "tags": []
   },
   "outputs": [
    {
     "data": {
      "text/plain": [
       "[[9.585714286,\n",
       "  10.6,\n",
       "  46.0,\n",
       "  7.87,\n",
       "  301.05,\n",
       "  80.77,\n",
       "  490.94,\n",
       "  0.3,\n",
       "  8.2,\n",
       "  2.13,\n",
       "  11.2,\n",
       "  5.32,\n",
       "  0.0,\n",
       "  0.0,\n",
       "  0.0,\n",
       "  0.0,\n",
       "  0.0,\n",
       "  0.0,\n",
       "  0.0,\n",
       "  0.0,\n",
       "  0.0,\n",
       "  0.0,\n",
       "  0.0,\n",
       "  0.0,\n",
       "  0.0,\n",
       "  0.0,\n",
       "  0.0,\n",
       "  0.0,\n",
       "  0.0,\n",
       "  0.0,\n",
       "  0.0,\n",
       "  0.0,\n",
       "  0.0,\n",
       "  1.0,\n",
       "  0.0,\n",
       "  0.0,\n",
       "  0.0,\n",
       "  0.0,\n",
       "  0.0,\n",
       "  0.0,\n",
       "  0.0,\n",
       "  0.0,\n",
       "  0.0,\n",
       "  0.0,\n",
       "  0.0,\n",
       "  1.0,\n",
       "  0.0,\n",
       "  0.0,\n",
       "  0.0,\n",
       "  1.0,\n",
       "  0.0],\n",
       " [91.14,\n",
       "  24.06666666666667,\n",
       "  38.46666666666667,\n",
       "  7.55,\n",
       "  243.15,\n",
       "  38.06,\n",
       "  265.49,\n",
       "  1.733,\n",
       "  4.3,\n",
       "  1.91,\n",
       "  11.98,\n",
       "  12.63,\n",
       "  0.0,\n",
       "  0.0,\n",
       "  0.0,\n",
       "  0.0,\n",
       "  0.0,\n",
       "  0.0,\n",
       "  0.0,\n",
       "  0.0,\n",
       "  0.0,\n",
       "  0.0,\n",
       "  0.0,\n",
       "  0.0,\n",
       "  0.0,\n",
       "  0.0,\n",
       "  1.0,\n",
       "  0.0,\n",
       "  0.0,\n",
       "  0.0,\n",
       "  0.0,\n",
       "  0.0,\n",
       "  0.0,\n",
       "  0.0,\n",
       "  0.0,\n",
       "  0.0,\n",
       "  0.0,\n",
       "  0.0,\n",
       "  0.0,\n",
       "  0.0,\n",
       "  0.0,\n",
       "  0.0,\n",
       "  0.0,\n",
       "  0.0,\n",
       "  1.0,\n",
       "  0.0,\n",
       "  0.0,\n",
       "  0.0,\n",
       "  0.0,\n",
       "  1.0,\n",
       "  0.0]]"
      ]
     },
     "execution_count": 29,
     "metadata": {},
     "output_type": "execute_result"
    }
   ],
   "source": [
    "testX[features][0:2].values.tolist()"
   ]
  },
  {
   "cell_type": "code",
   "execution_count": 30,
   "id": "eb176cc6-2fc9-49a1-a6f8-3c40fbdd856e",
   "metadata": {
    "tags": []
   },
   "outputs": [
    {
     "name": "stdout",
     "output_type": "stream",
     "text": [
      "Please use Content-Type = 'text/csv' and, send the request!!\n"
     ]
    }
   ],
   "source": [
    "print(predictor.predict(testX[features][8:10].values.tolist()))"
   ]
  },
  {
   "cell_type": "code",
   "execution_count": null,
   "id": "1efa2415-5e34-489c-b039-07c78fe5bc52",
   "metadata": {},
   "outputs": [],
   "source": []
  }
 ],
 "metadata": {
  "availableInstances": [
   {
    "_defaultOrder": 0,
    "_isFastLaunch": true,
    "category": "General purpose",
    "gpuNum": 0,
    "hideHardwareSpecs": false,
    "memoryGiB": 4,
    "name": "ml.t3.medium",
    "vcpuNum": 2
   },
   {
    "_defaultOrder": 1,
    "_isFastLaunch": false,
    "category": "General purpose",
    "gpuNum": 0,
    "hideHardwareSpecs": false,
    "memoryGiB": 8,
    "name": "ml.t3.large",
    "vcpuNum": 2
   },
   {
    "_defaultOrder": 2,
    "_isFastLaunch": false,
    "category": "General purpose",
    "gpuNum": 0,
    "hideHardwareSpecs": false,
    "memoryGiB": 16,
    "name": "ml.t3.xlarge",
    "vcpuNum": 4
   },
   {
    "_defaultOrder": 3,
    "_isFastLaunch": false,
    "category": "General purpose",
    "gpuNum": 0,
    "hideHardwareSpecs": false,
    "memoryGiB": 32,
    "name": "ml.t3.2xlarge",
    "vcpuNum": 8
   },
   {
    "_defaultOrder": 4,
    "_isFastLaunch": true,
    "category": "General purpose",
    "gpuNum": 0,
    "hideHardwareSpecs": false,
    "memoryGiB": 8,
    "name": "ml.m5.large",
    "vcpuNum": 2
   },
   {
    "_defaultOrder": 5,
    "_isFastLaunch": false,
    "category": "General purpose",
    "gpuNum": 0,
    "hideHardwareSpecs": false,
    "memoryGiB": 16,
    "name": "ml.m5.xlarge",
    "vcpuNum": 4
   },
   {
    "_defaultOrder": 6,
    "_isFastLaunch": false,
    "category": "General purpose",
    "gpuNum": 0,
    "hideHardwareSpecs": false,
    "memoryGiB": 32,
    "name": "ml.m5.2xlarge",
    "vcpuNum": 8
   },
   {
    "_defaultOrder": 7,
    "_isFastLaunch": false,
    "category": "General purpose",
    "gpuNum": 0,
    "hideHardwareSpecs": false,
    "memoryGiB": 64,
    "name": "ml.m5.4xlarge",
    "vcpuNum": 16
   },
   {
    "_defaultOrder": 8,
    "_isFastLaunch": false,
    "category": "General purpose",
    "gpuNum": 0,
    "hideHardwareSpecs": false,
    "memoryGiB": 128,
    "name": "ml.m5.8xlarge",
    "vcpuNum": 32
   },
   {
    "_defaultOrder": 9,
    "_isFastLaunch": false,
    "category": "General purpose",
    "gpuNum": 0,
    "hideHardwareSpecs": false,
    "memoryGiB": 192,
    "name": "ml.m5.12xlarge",
    "vcpuNum": 48
   },
   {
    "_defaultOrder": 10,
    "_isFastLaunch": false,
    "category": "General purpose",
    "gpuNum": 0,
    "hideHardwareSpecs": false,
    "memoryGiB": 256,
    "name": "ml.m5.16xlarge",
    "vcpuNum": 64
   },
   {
    "_defaultOrder": 11,
    "_isFastLaunch": false,
    "category": "General purpose",
    "gpuNum": 0,
    "hideHardwareSpecs": false,
    "memoryGiB": 384,
    "name": "ml.m5.24xlarge",
    "vcpuNum": 96
   },
   {
    "_defaultOrder": 12,
    "_isFastLaunch": false,
    "category": "General purpose",
    "gpuNum": 0,
    "hideHardwareSpecs": false,
    "memoryGiB": 8,
    "name": "ml.m5d.large",
    "vcpuNum": 2
   },
   {
    "_defaultOrder": 13,
    "_isFastLaunch": false,
    "category": "General purpose",
    "gpuNum": 0,
    "hideHardwareSpecs": false,
    "memoryGiB": 16,
    "name": "ml.m5d.xlarge",
    "vcpuNum": 4
   },
   {
    "_defaultOrder": 14,
    "_isFastLaunch": false,
    "category": "General purpose",
    "gpuNum": 0,
    "hideHardwareSpecs": false,
    "memoryGiB": 32,
    "name": "ml.m5d.2xlarge",
    "vcpuNum": 8
   },
   {
    "_defaultOrder": 15,
    "_isFastLaunch": false,
    "category": "General purpose",
    "gpuNum": 0,
    "hideHardwareSpecs": false,
    "memoryGiB": 64,
    "name": "ml.m5d.4xlarge",
    "vcpuNum": 16
   },
   {
    "_defaultOrder": 16,
    "_isFastLaunch": false,
    "category": "General purpose",
    "gpuNum": 0,
    "hideHardwareSpecs": false,
    "memoryGiB": 128,
    "name": "ml.m5d.8xlarge",
    "vcpuNum": 32
   },
   {
    "_defaultOrder": 17,
    "_isFastLaunch": false,
    "category": "General purpose",
    "gpuNum": 0,
    "hideHardwareSpecs": false,
    "memoryGiB": 192,
    "name": "ml.m5d.12xlarge",
    "vcpuNum": 48
   },
   {
    "_defaultOrder": 18,
    "_isFastLaunch": false,
    "category": "General purpose",
    "gpuNum": 0,
    "hideHardwareSpecs": false,
    "memoryGiB": 256,
    "name": "ml.m5d.16xlarge",
    "vcpuNum": 64
   },
   {
    "_defaultOrder": 19,
    "_isFastLaunch": false,
    "category": "General purpose",
    "gpuNum": 0,
    "hideHardwareSpecs": false,
    "memoryGiB": 384,
    "name": "ml.m5d.24xlarge",
    "vcpuNum": 96
   },
   {
    "_defaultOrder": 20,
    "_isFastLaunch": false,
    "category": "General purpose",
    "gpuNum": 0,
    "hideHardwareSpecs": true,
    "memoryGiB": 0,
    "name": "ml.geospatial.interactive",
    "supportedImageNames": [
     "sagemaker-geospatial-v1-0"
    ],
    "vcpuNum": 0
   },
   {
    "_defaultOrder": 21,
    "_isFastLaunch": true,
    "category": "Compute optimized",
    "gpuNum": 0,
    "hideHardwareSpecs": false,
    "memoryGiB": 4,
    "name": "ml.c5.large",
    "vcpuNum": 2
   },
   {
    "_defaultOrder": 22,
    "_isFastLaunch": false,
    "category": "Compute optimized",
    "gpuNum": 0,
    "hideHardwareSpecs": false,
    "memoryGiB": 8,
    "name": "ml.c5.xlarge",
    "vcpuNum": 4
   },
   {
    "_defaultOrder": 23,
    "_isFastLaunch": false,
    "category": "Compute optimized",
    "gpuNum": 0,
    "hideHardwareSpecs": false,
    "memoryGiB": 16,
    "name": "ml.c5.2xlarge",
    "vcpuNum": 8
   },
   {
    "_defaultOrder": 24,
    "_isFastLaunch": false,
    "category": "Compute optimized",
    "gpuNum": 0,
    "hideHardwareSpecs": false,
    "memoryGiB": 32,
    "name": "ml.c5.4xlarge",
    "vcpuNum": 16
   },
   {
    "_defaultOrder": 25,
    "_isFastLaunch": false,
    "category": "Compute optimized",
    "gpuNum": 0,
    "hideHardwareSpecs": false,
    "memoryGiB": 72,
    "name": "ml.c5.9xlarge",
    "vcpuNum": 36
   },
   {
    "_defaultOrder": 26,
    "_isFastLaunch": false,
    "category": "Compute optimized",
    "gpuNum": 0,
    "hideHardwareSpecs": false,
    "memoryGiB": 96,
    "name": "ml.c5.12xlarge",
    "vcpuNum": 48
   },
   {
    "_defaultOrder": 27,
    "_isFastLaunch": false,
    "category": "Compute optimized",
    "gpuNum": 0,
    "hideHardwareSpecs": false,
    "memoryGiB": 144,
    "name": "ml.c5.18xlarge",
    "vcpuNum": 72
   },
   {
    "_defaultOrder": 28,
    "_isFastLaunch": false,
    "category": "Compute optimized",
    "gpuNum": 0,
    "hideHardwareSpecs": false,
    "memoryGiB": 192,
    "name": "ml.c5.24xlarge",
    "vcpuNum": 96
   },
   {
    "_defaultOrder": 29,
    "_isFastLaunch": true,
    "category": "Accelerated computing",
    "gpuNum": 1,
    "hideHardwareSpecs": false,
    "memoryGiB": 16,
    "name": "ml.g4dn.xlarge",
    "vcpuNum": 4
   },
   {
    "_defaultOrder": 30,
    "_isFastLaunch": false,
    "category": "Accelerated computing",
    "gpuNum": 1,
    "hideHardwareSpecs": false,
    "memoryGiB": 32,
    "name": "ml.g4dn.2xlarge",
    "vcpuNum": 8
   },
   {
    "_defaultOrder": 31,
    "_isFastLaunch": false,
    "category": "Accelerated computing",
    "gpuNum": 1,
    "hideHardwareSpecs": false,
    "memoryGiB": 64,
    "name": "ml.g4dn.4xlarge",
    "vcpuNum": 16
   },
   {
    "_defaultOrder": 32,
    "_isFastLaunch": false,
    "category": "Accelerated computing",
    "gpuNum": 1,
    "hideHardwareSpecs": false,
    "memoryGiB": 128,
    "name": "ml.g4dn.8xlarge",
    "vcpuNum": 32
   },
   {
    "_defaultOrder": 33,
    "_isFastLaunch": false,
    "category": "Accelerated computing",
    "gpuNum": 4,
    "hideHardwareSpecs": false,
    "memoryGiB": 192,
    "name": "ml.g4dn.12xlarge",
    "vcpuNum": 48
   },
   {
    "_defaultOrder": 34,
    "_isFastLaunch": false,
    "category": "Accelerated computing",
    "gpuNum": 1,
    "hideHardwareSpecs": false,
    "memoryGiB": 256,
    "name": "ml.g4dn.16xlarge",
    "vcpuNum": 64
   },
   {
    "_defaultOrder": 35,
    "_isFastLaunch": false,
    "category": "Accelerated computing",
    "gpuNum": 1,
    "hideHardwareSpecs": false,
    "memoryGiB": 61,
    "name": "ml.p3.2xlarge",
    "vcpuNum": 8
   },
   {
    "_defaultOrder": 36,
    "_isFastLaunch": false,
    "category": "Accelerated computing",
    "gpuNum": 4,
    "hideHardwareSpecs": false,
    "memoryGiB": 244,
    "name": "ml.p3.8xlarge",
    "vcpuNum": 32
   },
   {
    "_defaultOrder": 37,
    "_isFastLaunch": false,
    "category": "Accelerated computing",
    "gpuNum": 8,
    "hideHardwareSpecs": false,
    "memoryGiB": 488,
    "name": "ml.p3.16xlarge",
    "vcpuNum": 64
   },
   {
    "_defaultOrder": 38,
    "_isFastLaunch": false,
    "category": "Accelerated computing",
    "gpuNum": 8,
    "hideHardwareSpecs": false,
    "memoryGiB": 768,
    "name": "ml.p3dn.24xlarge",
    "vcpuNum": 96
   },
   {
    "_defaultOrder": 39,
    "_isFastLaunch": false,
    "category": "Memory Optimized",
    "gpuNum": 0,
    "hideHardwareSpecs": false,
    "memoryGiB": 16,
    "name": "ml.r5.large",
    "vcpuNum": 2
   },
   {
    "_defaultOrder": 40,
    "_isFastLaunch": false,
    "category": "Memory Optimized",
    "gpuNum": 0,
    "hideHardwareSpecs": false,
    "memoryGiB": 32,
    "name": "ml.r5.xlarge",
    "vcpuNum": 4
   },
   {
    "_defaultOrder": 41,
    "_isFastLaunch": false,
    "category": "Memory Optimized",
    "gpuNum": 0,
    "hideHardwareSpecs": false,
    "memoryGiB": 64,
    "name": "ml.r5.2xlarge",
    "vcpuNum": 8
   },
   {
    "_defaultOrder": 42,
    "_isFastLaunch": false,
    "category": "Memory Optimized",
    "gpuNum": 0,
    "hideHardwareSpecs": false,
    "memoryGiB": 128,
    "name": "ml.r5.4xlarge",
    "vcpuNum": 16
   },
   {
    "_defaultOrder": 43,
    "_isFastLaunch": false,
    "category": "Memory Optimized",
    "gpuNum": 0,
    "hideHardwareSpecs": false,
    "memoryGiB": 256,
    "name": "ml.r5.8xlarge",
    "vcpuNum": 32
   },
   {
    "_defaultOrder": 44,
    "_isFastLaunch": false,
    "category": "Memory Optimized",
    "gpuNum": 0,
    "hideHardwareSpecs": false,
    "memoryGiB": 384,
    "name": "ml.r5.12xlarge",
    "vcpuNum": 48
   },
   {
    "_defaultOrder": 45,
    "_isFastLaunch": false,
    "category": "Memory Optimized",
    "gpuNum": 0,
    "hideHardwareSpecs": false,
    "memoryGiB": 512,
    "name": "ml.r5.16xlarge",
    "vcpuNum": 64
   },
   {
    "_defaultOrder": 46,
    "_isFastLaunch": false,
    "category": "Memory Optimized",
    "gpuNum": 0,
    "hideHardwareSpecs": false,
    "memoryGiB": 768,
    "name": "ml.r5.24xlarge",
    "vcpuNum": 96
   },
   {
    "_defaultOrder": 47,
    "_isFastLaunch": false,
    "category": "Accelerated computing",
    "gpuNum": 1,
    "hideHardwareSpecs": false,
    "memoryGiB": 16,
    "name": "ml.g5.xlarge",
    "vcpuNum": 4
   },
   {
    "_defaultOrder": 48,
    "_isFastLaunch": false,
    "category": "Accelerated computing",
    "gpuNum": 1,
    "hideHardwareSpecs": false,
    "memoryGiB": 32,
    "name": "ml.g5.2xlarge",
    "vcpuNum": 8
   },
   {
    "_defaultOrder": 49,
    "_isFastLaunch": false,
    "category": "Accelerated computing",
    "gpuNum": 1,
    "hideHardwareSpecs": false,
    "memoryGiB": 64,
    "name": "ml.g5.4xlarge",
    "vcpuNum": 16
   },
   {
    "_defaultOrder": 50,
    "_isFastLaunch": false,
    "category": "Accelerated computing",
    "gpuNum": 1,
    "hideHardwareSpecs": false,
    "memoryGiB": 128,
    "name": "ml.g5.8xlarge",
    "vcpuNum": 32
   },
   {
    "_defaultOrder": 51,
    "_isFastLaunch": false,
    "category": "Accelerated computing",
    "gpuNum": 1,
    "hideHardwareSpecs": false,
    "memoryGiB": 256,
    "name": "ml.g5.16xlarge",
    "vcpuNum": 64
   },
   {
    "_defaultOrder": 52,
    "_isFastLaunch": false,
    "category": "Accelerated computing",
    "gpuNum": 4,
    "hideHardwareSpecs": false,
    "memoryGiB": 192,
    "name": "ml.g5.12xlarge",
    "vcpuNum": 48
   },
   {
    "_defaultOrder": 53,
    "_isFastLaunch": false,
    "category": "Accelerated computing",
    "gpuNum": 4,
    "hideHardwareSpecs": false,
    "memoryGiB": 384,
    "name": "ml.g5.24xlarge",
    "vcpuNum": 96
   },
   {
    "_defaultOrder": 54,
    "_isFastLaunch": false,
    "category": "Accelerated computing",
    "gpuNum": 8,
    "hideHardwareSpecs": false,
    "memoryGiB": 768,
    "name": "ml.g5.48xlarge",
    "vcpuNum": 192
   },
   {
    "_defaultOrder": 55,
    "_isFastLaunch": false,
    "category": "Accelerated computing",
    "gpuNum": 8,
    "hideHardwareSpecs": false,
    "memoryGiB": 1152,
    "name": "ml.p4d.24xlarge",
    "vcpuNum": 96
   },
   {
    "_defaultOrder": 56,
    "_isFastLaunch": false,
    "category": "Accelerated computing",
    "gpuNum": 8,
    "hideHardwareSpecs": false,
    "memoryGiB": 1152,
    "name": "ml.p4de.24xlarge",
    "vcpuNum": 96
   }
  ],
  "kernelspec": {
   "display_name": "Python 3 (Data Science)",
   "language": "python",
   "name": "python3__SAGEMAKER_INTERNAL__arn:aws:sagemaker:ap-south-1:394103062818:image/datascience-1.0"
  },
  "language_info": {
   "codemirror_mode": {
    "name": "ipython",
    "version": 3
   },
   "file_extension": ".py",
   "mimetype": "text/x-python",
   "name": "python",
   "nbconvert_exporter": "python",
   "pygments_lexer": "ipython3",
   "version": "3.7.10"
  }
 },
 "nbformat": 4,
 "nbformat_minor": 5
}
